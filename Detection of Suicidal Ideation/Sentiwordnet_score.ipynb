{
 "cells": [
  {
   "cell_type": "code",
   "execution_count": 3,
   "metadata": {},
   "outputs": [
    {
     "name": "stdout",
     "output_type": "stream",
     "text": [
      "[[0.0, 0.1875, 0.0, 1.0, -0.041666666666666664, 0.1875, 0.25, 0.0], [-0.08333333333333333, 0.0], [0.03125, -0.075, 0.0125, 0.0], [0.0, -0.375, 0.08333333333333333, 0.015625, 0.027777777777777776], [0.0, 0.25, 0.0], [0.0, 0.10416666666666667, 0.08928571428571429]]\n",
      "Sentiment for each sentence:Nice and friendly place with excellent food and friendly and helpful staff. You need a car though. The children wants to go back! Playground and animals entertained them and they felt like at home. I also recommend the dinner! Great value for the price!\n",
      "[0.19791666666666666, -0.041666666666666664, -0.007812499999999999, -0.04965277777777778, 0.08333333333333333, 0.06448412698412699]\n"
     ]
    }
   ],
   "source": [
    "import nltk\n",
    "from nltk.corpus import sentiwordnet as swn\n",
    "doc=\"Nice and friendly place with excellent food and friendly and helpful staff. You need a car though. The children wants to go back! Playground and animals entertained them and they felt like at home. I also recommend the dinner! Great value for the price!\"\n",
    "sentences = nltk.sent_tokenize(doc)\n",
    "stokens = [nltk.word_tokenize(sent) for sent in sentences]\n",
    "taggedlist=[]\n",
    "for stoken in stokens:        \n",
    "     taggedlist.append(nltk.pos_tag(stoken))\n",
    "wnl = nltk.WordNetLemmatizer()\n",
    "\n",
    "score_list=[]\n",
    "for idx,taggedsent in enumerate(taggedlist):\n",
    "    score_list.append([])\n",
    "    for idx2,t in enumerate(taggedsent):\n",
    "        newtag=''\n",
    "        lemmatized=wnl.lemmatize(t[0])\n",
    "        if t[1].startswith('NN'):\n",
    "            newtag='n'\n",
    "        elif t[1].startswith('JJ'):\n",
    "            newtag='a'\n",
    "        elif t[1].startswith('V'):\n",
    "            newtag='v'\n",
    "        elif t[1].startswith('R'):\n",
    "            newtag='r'\n",
    "        else:\n",
    "            newtag=''       \n",
    "        if(newtag!=''):    \n",
    "            synsets = list(swn.senti_synsets(lemmatized, newtag))\n",
    "            #Getting average of all possible sentiments, as you requested        \n",
    "            score=0\n",
    "            if(len(synsets)>0):\n",
    "                for syn in synsets:\n",
    "                    score+=syn.pos_score()-syn.neg_score()\n",
    "                score_list[idx].append(score/len(synsets))\n",
    "            \n",
    "print(score_list)\n",
    "sentence_sentiment=[]\n",
    "\n",
    "for score_sent in score_list:\n",
    "    sentence_sentiment.append(sum([word_score for word_score in score_sent])/len(score_sent))\n",
    "print(\"Sentiment for each sentence:\"+doc)\n",
    "print(sentence_sentiment)"
   ]
  },
  {
   "cell_type": "code",
   "execution_count": null,
   "metadata": {},
   "outputs": [],
   "source": []
  },
  {
   "cell_type": "code",
   "execution_count": null,
   "metadata": {},
   "outputs": [],
   "source": []
  },
  {
   "cell_type": "code",
   "execution_count": null,
   "metadata": {},
   "outputs": [],
   "source": []
  }
 ],
 "metadata": {
  "kernelspec": {
   "display_name": "Python 2",
   "language": "python",
   "name": "python2"
  }
 },
 "nbformat": 4,
 "nbformat_minor": 2
}
